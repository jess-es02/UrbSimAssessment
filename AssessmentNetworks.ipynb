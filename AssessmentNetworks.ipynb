{
  "nbformat": 4,
  "nbformat_minor": 0,
  "metadata": {
    "colab": {
      "provenance": [],
      "authorship_tag": "ABX9TyNYQZ1/xYj2fLshbdkmhdcO"
    },
    "kernelspec": {
      "name": "python3",
      "display_name": "Python 3"
    },
    "language_info": {
      "name": "python"
    }
  },
  "cells": [
    {
      "cell_type": "markdown",
      "source": [
        "# Urban Simulation Assessment: Networks\n",
        "As I only have access to Google Colab and no local software, I need to test whether (and how) I can push a notebook to GitHub from here."
      ],
      "metadata": {
        "id": "W5Rx3_lu65ff"
      }
    },
    {
      "cell_type": "code",
      "execution_count": null,
      "metadata": {
        "id": "eqzt-8Su6K9X"
      },
      "outputs": [],
      "source": []
    }
  ]
}